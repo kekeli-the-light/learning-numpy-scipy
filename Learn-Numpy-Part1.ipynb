{
 "cells": [
  {
   "attachments": {},
   "cell_type": "markdown",
   "id": "cac66288",
   "metadata": {},
   "source": [
    "Learn Numpy with me. Part 1.\n",
    "Simple and concise notebook to learn and revise on numpy!"
   ]
  },
  {
   "cell_type": "code",
   "execution_count": 1,
   "id": "6ad4664d",
   "metadata": {},
   "outputs": [],
   "source": [
    "import numpy as np\n",
    "#After this we can access all functions and classes in the numpy module."
   ]
  },
  {
   "cell_type": "code",
   "execution_count": 2,
   "id": "a0b5e3d4",
   "metadata": {},
   "outputs": [],
   "source": [
    "#creating an array called data\n",
    "data = np.array([[1,2],[3,4],[5,6]])"
   ]
  },
  {
   "cell_type": "code",
   "execution_count": 3,
   "id": "ce7a0030",
   "metadata": {},
   "outputs": [
    {
     "name": "stdout",
     "output_type": "stream",
     "text": [
      "<class 'numpy.ndarray'>\n"
     ]
    }
   ],
   "source": [
    "print(type(data)) #tells us the datatype of array, data"
   ]
  },
  {
   "cell_type": "code",
   "execution_count": 4,
   "id": "d2bc6147",
   "metadata": {},
   "outputs": [
    {
     "data": {
      "text/plain": [
       "array([[1, 2],\n",
       "       [3, 4],\n",
       "       [5, 6]])"
      ]
     },
     "execution_count": 4,
     "metadata": {},
     "output_type": "execute_result"
    }
   ],
   "source": [
    "data"
   ]
  },
  {
   "cell_type": "code",
   "execution_count": 5,
   "id": "cbbc6600",
   "metadata": {},
   "outputs": [
    {
     "data": {
      "text/plain": [
       "2"
      ]
     },
     "execution_count": 5,
     "metadata": {},
     "output_type": "execute_result"
    }
   ],
   "source": [
    "data.ndim #returns the number of dimensions(axes) of the array"
   ]
  },
  {
   "cell_type": "code",
   "execution_count": 6,
   "id": "36a0ebc1",
   "metadata": {},
   "outputs": [
    {
     "data": {
      "text/plain": [
       "(3, 2)"
      ]
     },
     "execution_count": 6,
     "metadata": {},
     "output_type": "execute_result"
    }
   ],
   "source": [
    "data.shape #returns the a tuple of the number of elements in each dimension"
   ]
  },
  {
   "cell_type": "code",
   "execution_count": 7,
   "id": "cf586ecf",
   "metadata": {},
   "outputs": [
    {
     "data": {
      "text/plain": [
       "6"
      ]
     },
     "execution_count": 7,
     "metadata": {},
     "output_type": "execute_result"
    }
   ],
   "source": [
    "data.size #returns the number of elements in the array"
   ]
  },
  {
   "cell_type": "code",
   "execution_count": 8,
   "id": "9888fbb1",
   "metadata": {},
   "outputs": [
    {
     "data": {
      "text/plain": [
       "dtype('int64')"
      ]
     },
     "execution_count": 8,
     "metadata": {},
     "output_type": "execute_result"
    }
   ],
   "source": [
    "data.dtype"
   ]
  },
  {
   "cell_type": "code",
   "execution_count": 9,
   "id": "257f5467",
   "metadata": {},
   "outputs": [
    {
     "data": {
      "text/plain": [
       "48"
      ]
     },
     "execution_count": 9,
     "metadata": {},
     "output_type": "execute_result"
    }
   ],
   "source": [
    "data.nbytes"
   ]
  },
  {
   "attachments": {},
   "cell_type": "markdown",
   "id": "1dc28b2d",
   "metadata": {},
   "source": [
    "Creating arrays from other array-like objects\n",
    "and lists"
   ]
  },
  {
   "cell_type": "code",
   "execution_count": 10,
   "id": "3703206f",
   "metadata": {},
   "outputs": [
    {
     "data": {
      "text/plain": [
       "array([[0, 0, 0],\n",
       "       [0, 0, 0]])"
      ]
     },
     "execution_count": 10,
     "metadata": {},
     "output_type": "execute_result"
    }
   ],
   "source": [
    "z = np.zeros((2,3),int) \n",
    "z\n",
    "#returns an array of all elements as zeros.\n",
    "#((rows,columns), datatype)"
   ]
  },
  {
   "cell_type": "code",
   "execution_count": 11,
   "id": "6b74b425",
   "metadata": {},
   "outputs": [
    {
     "data": {
      "text/plain": [
       "array([[1., 1., 1.],\n",
       "       [1., 1., 1.]])"
      ]
     },
     "execution_count": 11,
     "metadata": {},
     "output_type": "execute_result"
    }
   ],
   "source": [
    "np.ones((2,3), float)"
   ]
  },
  {
   "cell_type": "code",
   "execution_count": 12,
   "id": "41514911",
   "metadata": {},
   "outputs": [
    {
     "data": {
      "text/plain": [
       "array([[5, 5, 5],\n",
       "       [5, 5, 5]])"
      ]
     },
     "execution_count": 12,
     "metadata": {},
     "output_type": "execute_result"
    }
   ],
   "source": [
    "z.fill(5)\n",
    "z\n",
    "#Used to fill an already created array with an element"
   ]
  },
  {
   "cell_type": "code",
   "execution_count": 13,
   "id": "8b599392",
   "metadata": {},
   "outputs": [
    {
     "data": {
      "text/plain": [
       "array([4.66335836e-310, 0.00000000e+000, 4.66437724e-310, 4.66437724e-310,\n",
       "       2.37151510e-322])"
      ]
     },
     "execution_count": 13,
     "metadata": {},
     "output_type": "execute_result"
    }
   ],
   "source": [
    "e = np.empty(5)\n",
    "e"
   ]
  },
  {
   "cell_type": "code",
   "execution_count": 14,
   "id": "55bdd904",
   "metadata": {},
   "outputs": [
    {
     "data": {
      "text/plain": [
       "array([4., 4., 4., 4., 4.])"
      ]
     },
     "execution_count": 14,
     "metadata": {},
     "output_type": "execute_result"
    }
   ],
   "source": [
    "e.fill(4)\n",
    "e"
   ]
  },
  {
   "attachments": {},
   "cell_type": "markdown",
   "id": "549849c8",
   "metadata": {},
   "source": [
    "Increamental Sequences\n"
   ]
  },
  {
   "cell_type": "code",
   "execution_count": 15,
   "id": "1ade267b",
   "metadata": {},
   "outputs": [
    {
     "data": {
      "text/plain": [
       "array([0, 1, 2, 3, 4, 5, 6, 7, 8, 9])"
      ]
     },
     "execution_count": 15,
     "metadata": {},
     "output_type": "execute_result"
    }
   ],
   "source": [
    "np.arange(0, 10, 1)\n",
    "#(Start, end, increament)"
   ]
  },
  {
   "cell_type": "code",
   "execution_count": 16,
   "id": "e55ea738",
   "metadata": {},
   "outputs": [
    {
     "data": {
      "text/plain": [
       "array([ 0.        ,  0.52631579,  1.05263158,  1.57894737,  2.10526316,\n",
       "        2.63157895,  3.15789474,  3.68421053,  4.21052632,  4.73684211,\n",
       "        5.26315789,  5.78947368,  6.31578947,  6.84210526,  7.36842105,\n",
       "        7.89473684,  8.42105263,  8.94736842,  9.47368421, 10.        ])"
      ]
     },
     "execution_count": 16,
     "metadata": {},
     "output_type": "execute_result"
    }
   ],
   "source": [
    "np.linspace(0,10,20)\n",
    "#(start,end, number of elements)"
   ]
  },
  {
   "cell_type": "code",
   "execution_count": 17,
   "id": "56162894",
   "metadata": {},
   "outputs": [
    {
     "data": {
      "text/plain": [
       "array([1.00000000e+00, 3.16227766e+02, 1.00000000e+05, 3.16227766e+07,\n",
       "       1.00000000e+10])"
      ]
     },
     "execution_count": 17,
     "metadata": {},
     "output_type": "execute_result"
    }
   ],
   "source": [
    "np.logspace(0,10, 5)\n",
    "#(start, end, powers of the optional base keyword argument which defaults to base 10)"
   ]
  },
  {
   "attachments": {},
   "cell_type": "markdown",
   "id": "d519eb94",
   "metadata": {},
   "source": [
    "Arrays with properties of other arrays"
   ]
  },
  {
   "cell_type": "code",
   "execution_count": 18,
   "id": "4eaa8860",
   "metadata": {},
   "outputs": [],
   "source": [
    "def f(x):\n",
    "    y = np.ones_like(x)\n",
    "    return y\n",
    "#created a function which returns an array with same size, data type as x"
   ]
  },
  {
   "cell_type": "code",
   "execution_count": 19,
   "id": "1c7b794a",
   "metadata": {},
   "outputs": [
    {
     "data": {
      "text/plain": [
       "array([0, 1, 2, 3, 4])"
      ]
     },
     "execution_count": 19,
     "metadata": {},
     "output_type": "execute_result"
    }
   ],
   "source": [
    "x = np.arange(0,5,1)\n",
    "x"
   ]
  },
  {
   "cell_type": "code",
   "execution_count": 20,
   "id": "ef6778f1",
   "metadata": {},
   "outputs": [
    {
     "data": {
      "text/plain": [
       "array([1, 1, 1, 1, 1])"
      ]
     },
     "execution_count": 20,
     "metadata": {},
     "output_type": "execute_result"
    }
   ],
   "source": [
    "#calling function f\n",
    "f(x)"
   ]
  },
  {
   "attachments": {},
   "cell_type": "markdown",
   "id": "2fc3442a",
   "metadata": {},
   "source": [
    "Matrix Arrays"
   ]
  },
  {
   "cell_type": "code",
   "execution_count": 21,
   "id": "ff75056c",
   "metadata": {},
   "outputs": [
    {
     "data": {
      "text/plain": [
       "array([[1., 0., 0., 0.],\n",
       "       [0., 1., 0., 0.],\n",
       "       [0., 0., 1., 0.],\n",
       "       [0., 0., 0., 1.]])"
      ]
     },
     "execution_count": 21,
     "metadata": {},
     "output_type": "execute_result"
    }
   ],
   "source": [
    "M = np.identity(4)\n",
    "M\n",
    "#returns an identity matrix with 4 rows\n"
   ]
  },
  {
   "cell_type": "code",
   "execution_count": 22,
   "id": "dd9ec394",
   "metadata": {},
   "outputs": [
    {
     "data": {
      "text/plain": [
       "array([[0., 1., 0.],\n",
       "       [0., 0., 1.],\n",
       "       [0., 0., 0.]])"
      ]
     },
     "execution_count": 22,
     "metadata": {},
     "output_type": "execute_result"
    }
   ],
   "source": [
    "np.eye(3, k=1)\n",
    "#returns a matrix with ones on the diagonal with an optional offset\n"
   ]
  },
  {
   "cell_type": "code",
   "execution_count": 23,
   "id": "9d80db04",
   "metadata": {},
   "outputs": [
    {
     "data": {
      "text/plain": [
       "array([[0., 0., 0.],\n",
       "       [1., 0., 0.],\n",
       "       [0., 1., 0.]])"
      ]
     },
     "execution_count": 23,
     "metadata": {},
     "output_type": "execute_result"
    }
   ],
   "source": [
    "np.eye(3,k=-1)"
   ]
  },
  {
   "cell_type": "code",
   "execution_count": 24,
   "id": "72ead26d",
   "metadata": {},
   "outputs": [
    {
     "data": {
      "text/plain": [
       "array([[ 0,  0,  0,  0],\n",
       "       [ 0,  5,  0,  0],\n",
       "       [ 0,  0, 10,  0],\n",
       "       [ 0,  0,  0, 15]])"
      ]
     },
     "execution_count": 24,
     "metadata": {},
     "output_type": "execute_result"
    }
   ],
   "source": [
    "np.diag(np.arange(0,20,5), k =0)"
   ]
  },
  {
   "attachments": {},
   "cell_type": "markdown",
   "id": "555c3aca",
   "metadata": {},
   "source": [
    "Indexing and slicing"
   ]
  },
  {
   "attachments": {},
   "cell_type": "markdown",
   "id": "01b8979c",
   "metadata": {},
   "source": [
    "For One Dimensional Arrays\n",
    "\n",
    "\n"
   ]
  },
  {
   "attachments": {},
   "cell_type": "markdown",
   "id": "01a290f2",
   "metadata": {},
   "source": [
    "a[m]          select element at index m, where m is and integer."
   ]
  },
  {
   "attachments": {},
   "cell_type": "markdown",
   "id": "a2b7d3c2",
   "metadata": {},
   "source": [
    "a[m:n]        select elements with index starting at m and wnding at n-1."
   ]
  },
  {
   "attachments": {},
   "cell_type": "markdown",
   "id": "62370e3b",
   "metadata": {},
   "source": [
    "a[m:n:p]      select elements with index starting from m through n inclusive with increment p."
   ]
  },
  {
   "attachments": {},
   "cell_type": "markdown",
   "id": "f51321f5",
   "metadata": {},
   "source": [
    "For Multidimensional Arrays.......  "
   ]
  },
  {
   "attachments": {},
   "cell_type": "markdown",
   "id": "c9c2e230",
   "metadata": {},
   "source": [
    "RESHAPING AND RESIZING"
   ]
  },
  {
   "cell_type": "code",
   "execution_count": 25,
   "id": "de4b918a",
   "metadata": {},
   "outputs": [
    {
     "data": {
      "text/plain": [
       "array([[1., 0., 0., 0.],\n",
       "       [0., 1., 0., 0.],\n",
       "       [0., 0., 1., 0.],\n",
       "       [0., 0., 0., 1.]])"
      ]
     },
     "execution_count": 25,
     "metadata": {},
     "output_type": "execute_result"
    }
   ],
   "source": [
    "M"
   ]
  },
  {
   "cell_type": "code",
   "execution_count": 26,
   "id": "f553841d",
   "metadata": {},
   "outputs": [],
   "source": [
    "data = np.array([[1,2],[3,4]])"
   ]
  },
  {
   "cell_type": "code",
   "execution_count": 27,
   "id": "26a32d48",
   "metadata": {},
   "outputs": [
    {
     "data": {
      "text/plain": [
       "array([[1, 2],\n",
       "       [3, 4]])"
      ]
     },
     "execution_count": 27,
     "metadata": {},
     "output_type": "execute_result"
    }
   ],
   "source": [
    "data"
   ]
  },
  {
   "cell_type": "code",
   "execution_count": 31,
   "id": "a93ec7d6",
   "metadata": {},
   "outputs": [
    {
     "data": {
      "text/plain": [
       "array([[1, 2, 3, 4]])"
      ]
     },
     "execution_count": 31,
     "metadata": {},
     "output_type": "execute_result"
    }
   ],
   "source": [
    "np.reshape(data, (1,4)) \n",
    "#reshapes the array into a 1x4 array\n",
    "#Note that not all arrays can be reshaped into certain shapes\n",
    "#It depends on the number of elements in the array"
   ]
  },
  {
   "cell_type": "code",
   "execution_count": 32,
   "id": "7fe8774b",
   "metadata": {},
   "outputs": [
    {
     "data": {
      "text/plain": [
       "array([[1, 2],\n",
       "       [3, 4]])"
      ]
     },
     "execution_count": 32,
     "metadata": {},
     "output_type": "execute_result"
    }
   ],
   "source": [
    "data"
   ]
  },
  {
   "cell_type": "code",
   "execution_count": 34,
   "id": "7b1b8325",
   "metadata": {},
   "outputs": [
    {
     "data": {
      "text/plain": [
       "array([1, 2, 3, 4])"
      ]
     },
     "execution_count": 34,
     "metadata": {},
     "output_type": "execute_result"
    }
   ],
   "source": [
    "data.ravel()\n",
    "#Collapses all dimensions of the array a one dimensional array"
   ]
  },
  {
   "cell_type": "code",
   "execution_count": 35,
   "id": "5a55ee55",
   "metadata": {},
   "outputs": [
    {
     "data": {
      "text/plain": [
       "array([[1, 2],\n",
       "       [3, 4]])"
      ]
     },
     "execution_count": 35,
     "metadata": {},
     "output_type": "execute_result"
    }
   ],
   "source": [
    "data\n"
   ]
  },
  {
   "cell_type": "code",
   "execution_count": 38,
   "id": "0e86df44",
   "metadata": {},
   "outputs": [
    {
     "data": {
      "text/plain": [
       "array([[1, 2],\n",
       "       [3, 4],\n",
       "       [1, 2],\n",
       "       [3, 4]])"
      ]
     },
     "execution_count": 38,
     "metadata": {},
     "output_type": "execute_result"
    }
   ],
   "source": [
    "data2 = np.vstack((data,data))\n",
    "data2\n",
    "#stacks up data onto data vertically"
   ]
  },
  {
   "cell_type": "code",
   "execution_count": 41,
   "id": "8b95a7b5",
   "metadata": {},
   "outputs": [
    {
     "data": {
      "text/plain": [
       "array([[1, 2, 1, 2],\n",
       "       [3, 4, 3, 4],\n",
       "       [1, 2, 1, 2],\n",
       "       [3, 4, 3, 4]])"
      ]
     },
     "execution_count": 41,
     "metadata": {},
     "output_type": "execute_result"
    }
   ],
   "source": [
    "data3 = np.hstack((data2,data2))\n",
    "data3\n",
    "#stacks up data onto data horizontally"
   ]
  },
  {
   "attachments": {},
   "cell_type": "markdown",
   "id": "74a6ed11",
   "metadata": {},
   "source": [
    "FOLLOW TO CHAPTER 2 FOR MORE ON NUMPY!!!\n"
   ]
  },
  {
   "cell_type": "code",
   "execution_count": null,
   "id": "8bab0f01",
   "metadata": {},
   "outputs": [],
   "source": []
  }
 ],
 "metadata": {
  "kernelspec": {
   "display_name": "Python 3 (ipykernel)",
   "language": "python",
   "name": "python3"
  },
  "language_info": {
   "codemirror_mode": {
    "name": "ipython",
    "version": 3
   },
   "file_extension": ".py",
   "mimetype": "text/x-python",
   "name": "python",
   "nbconvert_exporter": "python",
   "pygments_lexer": "ipython3",
   "version": "3.10.6"
  }
 },
 "nbformat": 4,
 "nbformat_minor": 5
}
